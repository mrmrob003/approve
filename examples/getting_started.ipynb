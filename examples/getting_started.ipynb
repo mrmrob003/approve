{
 "cells": [
  {
   "cell_type": "markdown",
   "metadata": {},
   "source": [
    "## 🏃 Getting Started"
   ]
  },
  {
   "cell_type": "code",
   "execution_count": null,
   "metadata": {},
   "outputs": [],
   "source": [
    "# imports\n",
    "from approve.models import HeteroAPPR\n",
    "import matplotlib.pyplot as plt\n",
    "import networkx as nx\n",
    "import numpy as np\n",
    "import os\n",
    "import torch\n",
    "from torch_geometric.data import HeteroData\n",
    "from torch_geometric.utils.convert import to_networkx"
   ]
  },
  {
   "cell_type": "markdown",
   "metadata": {},
   "source": [
    "To demonstrate our heterogeneous personalized PageRank algorithm, consider the following toy-model of a citation network consisting of three papers and two venues."
   ]
  },
  {
   "cell_type": "code",
   "execution_count": null,
   "metadata": {},
   "outputs": [],
   "source": [
    "hetero_data = HeteroData()\n",
    "hetero_data['paper', 'cites', 'paper'].edge_index = torch.tensor(\n",
    "    [[1, 2, 2],\n",
    "     [0, 0, 1]]\n",
    ")\n",
    "hetero_data['venue', 'publishes', 'paper'].edge_index = torch.tensor(\n",
    "    [[0, 1],\n",
    "     [0, 1]]\n",
    ")\n",
    "hetero_data['paper', 'rev_publishes', 'venue'].edge_index = \\\n",
    "    hetero_data['venue', 'publishes', 'paper'].edge_index[[1,0]]\n",
    "hetero_data['paper'].num_nodes = 3\n",
    "hetero_data['venue'].num_nodes = 2"
   ]
  },
  {
   "cell_type": "code",
   "execution_count": null,
   "metadata": {},
   "outputs": [],
   "source": [
    "data = hetero_data.to_homogeneous()\n",
    "g = to_networkx(data)\n",
    "pos = {0: [0, 1], 1: [0, 0], 2: [1, 1], 3: [-1, 1], 4:[-1, 0]}\n",
    "labels = {0: 0, 1: 1, 2: 2, 3: 0, 4: 1}\n",
    "\n",
    "# set figure size\n",
    "plt.figure(dpi=144, figsize=(6, 3))\n",
    "\n",
    "# draw nodes\n",
    "nx.draw_networkx_nodes(g, pos, label='paper', nodelist=[0, 1, 2], \n",
    "                       node_color='tab:blue', edgecolors='black')\n",
    "nx.draw_networkx_nodes(g, pos, label='venue', nodelist=[3, 4], \n",
    "                       node_color='tab:purple', edgecolors='black')\n",
    "\n",
    "# draw labels\n",
    "nx.draw_networkx_labels(g, pos, labels, font_color='whitesmoke')\n",
    "\n",
    "# draw edges\n",
    "nx.draw_networkx_edges(g, pos, edgelist=[(1, 0), (2, 0), (2, 1)],\n",
    "                       edge_color=\"tab:blue\")\n",
    "nx.draw_networkx_edges(g, pos, edgelist=[(3, 0), (4, 1), (0, 3), (1, 4)],\n",
    "                       edge_color=\"tab:purple\")\n",
    "\n",
    "# display legend\n",
    "legend = plt.legend(loc='center left')\n",
    "for legend_handle in legend.legend_handles:\n",
    "    legend_handle._sizes = [100]\n",
    "\n",
    "# remove axis\n",
    "plt.axis('off') \n",
    "\n",
    "# save figure\n",
    "plt.savefig(os.path.join(os.getcwd(), 'citation_network'), \n",
    "            bbox_inches=\"tight\")"
   ]
  },
  {
   "cell_type": "markdown",
   "metadata": {},
   "source": [
    "Paper `0` is cited by the other two papers and published by venue `0`, while paper `1` is cited by paper `2` and published by venue `1`."
   ]
  },
  {
   "cell_type": "markdown",
   "metadata": {},
   "source": [
    "To compute the type-level PageRank score of each node, we initially assign uniform scores to all nodes of a given type. Since there are three papers and two venues, we assign each paper a third of the total `'paper'` score and each venue half of the total `'venue'` score."
   ]
  },
  {
   "cell_type": "code",
   "execution_count": null,
   "metadata": {},
   "outputs": [],
   "source": [
    "hetero_data['paper'].x = torch.full((3, 1), 1 / 3)\n",
    "hetero_data['venue'].x = torch.full((2, 1), 1 / 2)"
   ]
  },
  {
   "cell_type": "markdown",
   "metadata": {},
   "source": [
    "Furthermore, we need to add self-loops to `'paper'` nodes, and a special edge from paper `2` (which is unpublished) to a special `'venue'` node. The addition of the self-loops and special edge prevents the scores for each node type from leaking.\n",
    "\n",
    "The `approve.models.HeteroAPPR` model takes care of all these considerations and can be used to compute the score of each node as follows."
   ]
  },
  {
   "cell_type": "code",
   "execution_count": null,
   "metadata": {},
   "outputs": [],
   "source": [
    "model = HeteroAPPR(K=30)\n",
    "output = model(\n",
    "    hetero_data.x_dict, \n",
    "    edge_index_dict=hetero_data.edge_index_dict,\n",
    ")\n",
    "output"
   ]
  },
  {
   "cell_type": "markdown",
   "metadata": {},
   "source": [
    "Unsurprisingly, paper `0` is the most important paper, since it is cited by the other two papers. Venues `0` and `1` have comparable scores; venue `0`'s score is slighlty larger than venue `1`'s score, because venue `0` publishes a higher-ranked paper than the paper published by venue `1`. Venue `2`, the special `'venue'` node, has a comparably low score because it relates to the lowest ranked paper."
   ]
  },
  {
   "cell_type": "code",
   "execution_count": null,
   "metadata": {},
   "outputs": [],
   "source": [
    "hetero_data_update = HeteroData()\n",
    "for node_type, x in output.items():\n",
    "    hetero_data_update[node_type].x = x\n",
    "for edge_type, edge_index in model._norm[0].items():\n",
    "    hetero_data_update[edge_type].edge_index = edge_index\n",
    "for node_type, special in model._norm[3].items():\n",
    "    hetero_data_update[node_type].special = special"
   ]
  },
  {
   "cell_type": "code",
   "execution_count": null,
   "metadata": {},
   "outputs": [],
   "source": [
    "data = hetero_data_update.to_homogeneous()\n",
    "g = to_networkx(data)\n",
    "pos = {0: [0, 1], 1: [0, 0], 2: [1, 1], 3: [-1, 1], 4:[-1, 0], 5: [1,0]}\n",
    "labels = {0: 0, 1: 1, 2: 2, 3: 0, 4: 1, 5: 2}\n",
    "\n",
    "# set figure size\n",
    "plt.figure(dpi=144, figsize=(6, 3))\n",
    "\n",
    "# draw nodes\n",
    "nx.draw_networkx_nodes(g, pos, nodelist=[5],\n",
    "                       node_color='white', node_size=500, edgecolors='tab:red')\n",
    "nx.draw_networkx_nodes(g, pos, label='paper', nodelist=[0, 1, 2],\n",
    "                       node_color='tab:blue', edgecolors='black')\n",
    "nx.draw_networkx_nodes(g, pos, label='venue', nodelist=[3, 4, 5], \n",
    "                       node_color='tab:purple', edgecolors='black')\n",
    "\n",
    "# draw labels\n",
    "nx.draw_networkx_labels(g, pos, labels, font_color='whitesmoke')\n",
    "\n",
    "# draw edges\n",
    "nx.draw_networkx_edges(g, pos, edgelist=[(1, 0), (2, 0), (2, 1)],\n",
    "                       edge_color=\"tab:blue\")\n",
    "nx.draw_networkx_edges(g, pos, edgelist=[(3, 0), (4, 1), (0, 3), (1, 4)],\n",
    "                       edge_color=\"tab:purple\")\n",
    "nx.draw_networkx_edges(g, pos, \n",
    "                       edgelist=[(0, 0), (1, 1), (2, 2), (2, 5), (5, 2)],\n",
    "                       edge_color=\"tab:red\")\n",
    "\n",
    "# display legend\n",
    "legend = plt.legend(loc='center left')\n",
    "for legend_handle in legend.legend_handles:\n",
    "    legend_handle._sizes = [100]\n",
    "\n",
    "# remove axis\n",
    "plt.axis('off') \n",
    "\n",
    "# save figure\n",
    "plt.savefig(os.path.join(os.getcwd(), 'citation_network_updated'), \n",
    "            bbox_inches=\"tight\")"
   ]
  },
  {
   "cell_type": "code",
   "execution_count": null,
   "metadata": {},
   "outputs": [],
   "source": []
  }
 ],
 "metadata": {
  "kernelspec": {
   "display_name": "approve3.11_install",
   "language": "python",
   "name": "python3"
  },
  "language_info": {
   "codemirror_mode": {
    "name": "ipython",
    "version": 3
   },
   "file_extension": ".py",
   "mimetype": "text/x-python",
   "name": "python",
   "nbconvert_exporter": "python",
   "pygments_lexer": "ipython3",
   "version": "3.11.6"
  }
 },
 "nbformat": 4,
 "nbformat_minor": 2
}
